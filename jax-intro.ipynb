{
 "cells": [
  {
   "cell_type": "markdown",
   "metadata": {},
   "source": [
    "## Jax 101\n",
    "---\n",
    "This notebook accompanies the `Jax 101` [blog post](link)."
   ]
  },
  {
   "cell_type": "code",
   "execution_count": 7,
   "metadata": {},
   "outputs": [],
   "source": [
    "import numpy as np\n",
    "import jax.numpy as jnp\n",
    "import matplotlib.pyplot as plt\n",
    "\n",
    "%matplotlib inline"
   ]
  },
  {
   "cell_type": "code",
   "execution_count": 8,
   "metadata": {},
   "outputs": [],
   "source": [
    "# Similar APIs for array creation!\n",
    "arange_np = np.arange(5)\n",
    "arange_jnp = jnp.arange(5)\n",
    "\n",
    "linspace_np = np.linspace(-3, 3, 100)\n",
    "linspace_jnp = jnp.linspace(-3, 3, 100)\n",
    "\n",
    "zeros_np = np.zeros((10, 10), dtype=np.float16)\n",
    "zeros_jnp = jnp.zeros((10, 10), dtype=jnp.float16)"
   ]
  },
  {
   "cell_type": "code",
   "execution_count": null,
   "metadata": {},
   "outputs": [],
   "source": [
    "print(f\"NumPy dtype: {arange_np.dtype}\")\n",
    "print(f\"Jax dtype: {arange_jnp.dtype}\")"
   ]
  },
  {
   "cell_type": "code",
   "execution_count": null,
   "metadata": {},
   "outputs": [],
   "source": [
    "plt.plot(linspace_jnp)\n",
    "plt.title(\"Simple plot of jnp data\");"
   ]
  },
  {
   "cell_type": "markdown",
   "metadata": {},
   "source": [
    "## Random Numbers"
   ]
  },
  {
   "cell_type": "code",
   "execution_count": 11,
   "metadata": {},
   "outputs": [],
   "source": [
    "from jax import random"
   ]
  },
  {
   "cell_type": "code",
   "execution_count": null,
   "metadata": {},
   "outputs": [],
   "source": [
    "key = random.key(21)\n",
    "print(key)"
   ]
  },
  {
   "cell_type": "code",
   "execution_count": null,
   "metadata": {},
   "outputs": [],
   "source": [
    "# These will give the same value!\n",
    "x1 = random.normal(key, 3)\n",
    "x2 = random.normal(key, 3)\n",
    "print(x1)\n",
    "print(x2)"
   ]
  },
  {
   "cell_type": "code",
   "execution_count": null,
   "metadata": {},
   "outputs": [],
   "source": [
    "# Split the key to get unique values for multiple random function calls\n",
    "newkey1, newkey2 = random.split(key, 2)\n",
    "print(newkey1)\n",
    "print(newkey2)"
   ]
  },
  {
   "cell_type": "code",
   "execution_count": null,
   "metadata": {},
   "outputs": [],
   "source": [
    "x1 = random.normal(newkey1, 3)\n",
    "x2 = random.normal(newkey2, 3)\n",
    "print(x1)\n",
    "print(x2)"
   ]
  },
  {
   "cell_type": "markdown",
   "metadata": {},
   "source": [
    "## grad"
   ]
  },
  {
   "cell_type": "code",
   "execution_count": 16,
   "metadata": {},
   "outputs": [],
   "source": [
    "from jax import grad"
   ]
  },
  {
   "cell_type": "code",
   "execution_count": 17,
   "metadata": {},
   "outputs": [],
   "source": [
    "def relu(x):\n",
    "    return jnp.maximum(0, x)\n",
    "\n",
    "relu_grad = grad(relu)"
   ]
  },
  {
   "cell_type": "code",
   "execution_count": null,
   "metadata": {},
   "outputs": [],
   "source": [
    "xs = jnp.linspace(-3, 3, 200)\n",
    "ys = relu(xs)\n",
    "ys_grad = [relu_grad(x) for x in xs]\n",
    "\n",
    "fix, ax = plt.subplots()\n",
    "ax.plot(xs, ys, label=\"relu\")\n",
    "ax.plot(xs, ys_grad, label=\"relu_grad\")\n",
    "ax.set_xlim(-3, 3)\n",
    "ax.set_ylim(-3, 3)\n",
    "\n",
    "ax.grid(True)\n",
    "ax.legend();"
   ]
  },
  {
   "cell_type": "code",
   "execution_count": 19,
   "metadata": {},
   "outputs": [],
   "source": [
    "def f(a, b):\n",
    "    return 2*a**3 - b**2\n",
    "\n",
    "f_grad_0 = grad(f, argnums=0)\n",
    "f_grad_1 = grad(f, argnums=1)"
   ]
  },
  {
   "cell_type": "code",
   "execution_count": null,
   "metadata": {},
   "outputs": [],
   "source": [
    "xs = jnp.linspace(-3, 3, 200)\n",
    "ys = jnp.linspace(-3, 3, 200)\n",
    "ys_orig = f(xs, ys)\n",
    "ys_grad_0 = [f_grad_0(x, y) for x, y in zip(xs, ys)]\n",
    "ys_grad_1 = [f_grad_1(x, y) for x, y in zip(xs, ys)]\n",
    "\n",
    "fix, ax = plt.subplots()\n",
    "ax.plot(xs, ys_orig, label=\"f(a, b)\")\n",
    "ax.plot(xs, ys_grad_0, label=\"∂f/∂a\")\n",
    "ax.plot(xs, ys_grad_1, label=\"∂f/∂b\")\n",
    "\n",
    "ax.grid(True)\n",
    "ax.legend();"
   ]
  },
  {
   "cell_type": "markdown",
   "metadata": {},
   "source": [
    "## vmap"
   ]
  },
  {
   "cell_type": "code",
   "execution_count": 21,
   "metadata": {},
   "outputs": [],
   "source": [
    "from jax import vmap"
   ]
  },
  {
   "cell_type": "code",
   "execution_count": 22,
   "metadata": {},
   "outputs": [],
   "source": [
    "def relu(x):\n",
    "    return jnp.maximum(0, x)\n",
    "\n",
    "# vectorize\n",
    "relu_vmap_grad = vmap(grad(relu))"
   ]
  },
  {
   "cell_type": "code",
   "execution_count": null,
   "metadata": {},
   "outputs": [],
   "source": [
    "xs = jnp.linspace(-3, 3, 200)\n",
    "ys = relu(xs)\n",
    "ys_grad = relu_vmap_grad(xs) # can handle batches of data now\n",
    "\n",
    "_, ax = plt.subplots()\n",
    "ax.plot(xs, ys, label=\"relu\")\n",
    "ax.plot(xs, ys_grad, label=\"relu_grad\")\n",
    "ax.set_xlim(-3, 3)\n",
    "ax.set_ylim(-3, 3)\n",
    "\n",
    "ax.grid(True)\n",
    "ax.legend();"
   ]
  },
  {
   "cell_type": "markdown",
   "metadata": {},
   "source": [
    "## jit"
   ]
  },
  {
   "cell_type": "code",
   "execution_count": 24,
   "metadata": {},
   "outputs": [],
   "source": [
    "from jax import jit, make_jaxpr"
   ]
  },
  {
   "cell_type": "code",
   "execution_count": 25,
   "metadata": {},
   "outputs": [],
   "source": [
    "def f(x):\n",
    "    x = x + 2\n",
    "    x = x**2 - 4\n",
    "    return jnp.sum(x)\n",
    "\n",
    "f_jit = jit(f)"
   ]
  },
  {
   "cell_type": "code",
   "execution_count": null,
   "metadata": {},
   "outputs": [],
   "source": [
    "xs = jnp.linspace(-10, 10, 1_000_000)\n",
    "# warm up jitted function (i.e. it compiles 1st time it runs)\n",
    "_ = f_jit(xs)\n",
    "\n",
    "%timeit f(xs)\n",
    "%timeit f_jit(xs).block_until_ready()"
   ]
  },
  {
   "cell_type": "code",
   "execution_count": null,
   "metadata": {},
   "outputs": [],
   "source": [
    "make_jaxpr(f)(xs)"
   ]
  },
  {
   "cell_type": "code",
   "execution_count": null,
   "metadata": {},
   "outputs": [],
   "source": []
  }
 ],
 "metadata": {
  "kernelspec": {
   "display_name": "jax",
   "language": "python",
   "name": "python3"
  },
  "language_info": {
   "codemirror_mode": {
    "name": "ipython",
    "version": 3
   },
   "file_extension": ".py",
   "mimetype": "text/x-python",
   "name": "python",
   "nbconvert_exporter": "python",
   "pygments_lexer": "ipython3",
   "version": "3.12.4"
  }
 },
 "nbformat": 4,
 "nbformat_minor": 2
}
